{
  "nbformat": 4,
  "nbformat_minor": 0,
  "metadata": {
    "colab": {
      "provenance": []
    },
    "kernelspec": {
      "name": "python3",
      "display_name": "Python 3"
    },
    "language_info": {
      "name": "python"
    }
  },
  "cells": [
    {
      "cell_type": "code",
      "source": [
        "!pip install memory_profiler\n",
        "%load_ext memory_profiler"
      ],
      "metadata": {
        "colab": {
          "base_uri": "https://localhost:8080/"
        },
        "id": "kyGsfRxuDZlX",
        "outputId": "c3d87252-f49e-4676-f748-bdd45500b466"
      },
      "execution_count": 228,
      "outputs": [
        {
          "output_type": "stream",
          "name": "stdout",
          "text": [
            "Requirement already satisfied: memory_profiler in /usr/local/lib/python3.12/dist-packages (0.61.0)\n",
            "Requirement already satisfied: psutil in /usr/local/lib/python3.12/dist-packages (from memory_profiler) (5.9.5)\n",
            "The memory_profiler extension is already loaded. To reload it, use:\n",
            "  %reload_ext memory_profiler\n"
          ]
        }
      ]
    },
    {
      "cell_type": "code",
      "execution_count": 229,
      "metadata": {
        "id": "FyeOp2NzUVHa"
      },
      "outputs": [],
      "source": [
        "import pandas as pd, random, os, csv, time\n",
        "from collections import defaultdict\n"
      ]
    },
    {
      "cell_type": "code",
      "source": [
        "# === PARAMS ===\n",
        "CSV_PATH = \"/content/sample_data/jadwal_kuliah_random_fix9_halfhour.csv\"\n",
        "N_STUDENTS = 300\n",
        "\n",
        "REQUIRED = {\"EF234501\",\"EF234502\",\"EF234503\",\"EF234504\",\"EF234505\"}\n",
        "ELECTIVES = {\"EF234509\",\"EF234518\",\"EF234713\",\"EK234601\",\"EF234618\",\n",
        "             \"EF234606\",\"ER234504\",\"EF234614\",\"EF234704\",\"EF234708\"}\n",
        "\n",
        "import random, os, csv, time\n",
        "from collections import defaultdict\n",
        "\n",
        "RANDOM_SEED = int(time.time()) % 100000\n",
        "random.seed(RANDOM_SEED)\n",
        "print(\"🎲 Random seed:\", RANDOM_SEED)\n",
        "\n",
        "def to_minutes(hhmm: str) -> int:\n",
        "    h, m = map(int, hhmm.split(\":\"))\n",
        "    return h*60 + m\n",
        "\n",
        "def conflict(secA, secB) -> bool:\n",
        "    # day equal AND time overlaps\n",
        "    return (secA[\"day\"] == secB[\"day\"]) and not (secA[\"end\"] <= secB[\"start\"] or secB[\"end\"] <= secA[\"start\"])\n",
        "\n",
        "def load_schedule(csv_path):\n",
        "    sections = {}\n",
        "    with open(csv_path, newline=\"\", encoding=\"utf-8\") as f:\n",
        "        reader = csv.DictReader(f)\n",
        "        for r in reader:\n",
        "            code = r[\"Kode Kelas\"].split()[0]\n",
        "            cap = 60 if code in REQUIRED else 30\n",
        "            sections[r[\"Kode Kelas\"]] = {\n",
        "                \"code\": code,\n",
        "                \"name\": r[\"Nama Mata Kuliah\"],\n",
        "                \"day\": r[\"Hari\"],\n",
        "                \"start\": to_minutes(r[\"Mulai\"]),\n",
        "                \"end\": to_minutes(r[\"Selesai\"]),\n",
        "                \"dur\": int(r[\"Durasi (menit)\"]),\n",
        "                \"cap\": cap,\n",
        "            }\n",
        "    return sections\n",
        "\n",
        "def group_by_course(sections):\n",
        "    g = defaultdict(list)\n",
        "    for sid, s in sections.items():\n",
        "        g[s[\"code\"]].append(sid)\n",
        "    return g\n"
      ],
      "metadata": {
        "colab": {
          "base_uri": "https://localhost:8080/"
        },
        "id": "SuXwTZ-lUzIG",
        "outputId": "9af1bf85-c472-48b0-92d5-e29ec4caf40a"
      },
      "execution_count": 230,
      "outputs": [
        {
          "output_type": "stream",
          "name": "stdout",
          "text": [
            "🎲 Random seed: 89613\n"
          ]
        }
      ]
    },
    {
      "cell_type": "code",
      "source": [
        "sections = load_schedule(CSV_PATH)\n",
        "course_to_secs = group_by_course(sections)\n",
        "capacity = {sid: s[\"cap\"] for sid, s in sections.items()}\n",
        "\n",
        "# sanity checks\n",
        "total_req_seats = sum(capacity[sid] for sid, s in sections.items() if s[\"code\"] in REQUIRED)\n",
        "total_elec_seats = sum(capacity[sid] for sid, s in sections.items() if s[\"code\"] in ELECTIVES)\n",
        "print(\"Seats Wajib:\", total_req_seats, \"(harus 1500)\")\n",
        "print(\"Seats Pilihan:\", total_elec_seats, \"(harus 600)\")\n",
        "print(\"Jumlah section:\", len(sections))\n"
      ],
      "metadata": {
        "colab": {
          "base_uri": "https://localhost:8080/"
        },
        "id": "q--aVI0QVy88",
        "outputId": "be1ea389-d98f-40d1-d439-80afd70869db"
      },
      "execution_count": 231,
      "outputs": [
        {
          "output_type": "stream",
          "name": "stdout",
          "text": [
            "Seats Wajib: 1500 (harus 1500)\n",
            "Seats Pilihan: 600 (harus 600)\n",
            "Jumlah section: 45\n"
          ]
        }
      ]
    },
    {
      "cell_type": "code",
      "source": [
        "def assign_student_backtracking(capacity):\n",
        "    # 5 wajib + 2 pilihan (random distinct)\n",
        "    courses = list(REQUIRED) + random.sample(list(ELECTIVES), 2)\n",
        "\n",
        "    assigned = {}          # course_code -> section_id\n",
        "    chosen_secs = []       # list of chosen section_id (for conflict check)\n",
        "\n",
        "    # urutkan berdasarkan banyak nya ketersediaan kelas (mulai dari paling sedikit)\n",
        "    sorted_courses = sorted(courses, key=lambda c: sum(1 for sid in course_to_secs[c] if capacity[sid] > 0))\n",
        "\n",
        "    def backtrack(i: int) -> bool:\n",
        "        if i == len(sorted_courses):\n",
        "            return True\n",
        "        course = sorted_courses[i]\n",
        "        # urutkan berdasarkan kapasitas paling banyak\n",
        "        options = [sid for sid in course_to_secs[course] if capacity[sid] > 0]\n",
        "        options.sort(key=lambda sid: capacity[sid], reverse=True)\n",
        "        for sid in options:\n",
        "            s = sections[sid]\n",
        "            if any(conflict(s, sections[cid]) for cid in chosen_secs):\n",
        "                continue\n",
        "            # pilih\n",
        "            assigned[course] = sid\n",
        "            chosen_secs.append(sid)\n",
        "            capacity[sid] -= 1\n",
        "\n",
        "            if backtrack(i+1):\n",
        "                return True\n",
        "\n",
        "            # batal\n",
        "            capacity[sid] += 1\n",
        "            chosen_secs.pop()\n",
        "            assigned.pop(course, None)\n",
        "        return False\n",
        "\n",
        "    ok = backtrack(0)\n",
        "    return assigned if ok else None\n"
      ],
      "metadata": {
        "id": "Iei40hhRWOZX"
      },
      "execution_count": 232,
      "outputs": []
    },
    {
      "cell_type": "code",
      "source": [
        "%%memit\n",
        "\n",
        "out_dir = \"/content/output_backtracking\"\n",
        "os.makedirs(out_dir, exist_ok=True)\n",
        "\n",
        "start = time.time()\n",
        "success = 0\n",
        "\n",
        "for i in range(1, N_STUDENTS+1):\n",
        "    sid = f\"S{i:03d}\"\n",
        "    alloc = None\n",
        "    # beberapa percobaan supaya tidak buntu (ubah angka kalau perlu)\n",
        "    for _ in range(500):\n",
        "        alloc = assign_student_backtracking(capacity)\n",
        "        if alloc:\n",
        "            break\n",
        "    if not alloc:\n",
        "        print(f\"[!] Gagal alokasi {sid} (coba tambah percobaan/ubah seed)\")\n",
        "        continue\n",
        "\n",
        "    # tulis CSV per mahasiswa\n",
        "    # sort tampilan per hari & jam mulai\n",
        "    day_order = {\"Senin\":1,\"Selasa\":2,\"Rabu\":3,\"Kamis\":4,\"Jumat\":5}\n",
        "    rows = []\n",
        "    for course_code, sec_id in alloc.items():\n",
        "        info = sections[sec_id]\n",
        "        jenis = \"Wajib\" if course_code in REQUIRED else \"Pilihan\"\n",
        "        rows.append([info[\"day\"],\n",
        "                     f\"{info['start']//60:02d}:{info['start']%60:02d}\",\n",
        "                     f\"{info['end']//60:02d}:{info['end']%60:02d}\",\n",
        "                     sec_id, info[\"name\"], jenis])\n",
        "    rows.sort(key=lambda r: (day_order[r[0]], r[1]))\n",
        "\n",
        "    with open(os.path.join(out_dir, f\"{sid}.csv\"), \"w\", encoding=\"utf-8\") as f:\n",
        "        f.write(\"Hari,Mulai,Selesai,Kode Kelas,Nama Mata Kuliah,Jenis\\n\")\n",
        "        for r in rows:\n",
        "            f.write(\",\".join(r) + \"\\n\")\n",
        "    success += 1\n",
        "    if i % 25 == 0:\n",
        "        print(f\"Progress: {i}/{N_STUDENTS} (sukses: {success})\")\n",
        "\n",
        "elapsed = time.time() - start\n",
        "print(f\"Done. Sukses: {success}/{N_STUDENTS}. Waktu: {elapsed:.2f}s\")\n"
      ],
      "metadata": {
        "colab": {
          "base_uri": "https://localhost:8080/"
        },
        "id": "Kc7avqZOWSfV",
        "outputId": "b2f2e88c-abb5-4fd1-a4c5-2ac8ba5ad15a"
      },
      "execution_count": 233,
      "outputs": [
        {
          "output_type": "stream",
          "name": "stdout",
          "text": [
            "Progress: 25/300 (sukses: 25)\n",
            "Progress: 50/300 (sukses: 50)\n",
            "Progress: 75/300 (sukses: 75)\n",
            "Progress: 100/300 (sukses: 100)\n",
            "Progress: 125/300 (sukses: 125)\n",
            "Progress: 150/300 (sukses: 150)\n",
            "Progress: 175/300 (sukses: 175)\n",
            "Progress: 200/300 (sukses: 200)\n",
            "Progress: 225/300 (sukses: 225)\n",
            "Progress: 250/300 (sukses: 250)\n",
            "Progress: 275/300 (sukses: 275)\n",
            "[!] Gagal alokasi S298 (coba tambah percobaan/ubah seed)\n",
            "[!] Gagal alokasi S299 (coba tambah percobaan/ubah seed)\n",
            "[!] Gagal alokasi S300 (coba tambah percobaan/ubah seed)\n",
            "Done. Sukses: 297/300. Waktu: 0.09s\n",
            "peak memory: 310.39 MiB, increment: 0.01 MiB\n"
          ]
        }
      ]
    },
    {
      "cell_type": "code",
      "source": [],
      "metadata": {
        "id": "mDKF8h3w_wBA"
      },
      "execution_count": 233,
      "outputs": []
    },
    {
      "cell_type": "code",
      "source": [
        "# out_path=\"/content/output_backtracking_full_zip\"\n",
        "# os.makedirs(out_path,exist_ok=True)\n",
        "\n",
        "# for sid,alloc in assignments.items():\n",
        "#     day_order={\"Senin\":1,\"Selasa\":2,\"Rabu\":3,\"Kamis\":4,\"Jumat\":5}\n",
        "#     rows=[]\n",
        "#     for c,sec in alloc.items():\n",
        "#         info=sections[sec]; jenis=\"Wajib\" if c in REQUIRED else \"Pilihan\"\n",
        "#         rows.append([info[\"day\"],\n",
        "#                      f\"{info['start']//60:02d}:{info['start']%60:02d}\",\n",
        "#                      f\"{info['end']//60:02d}:{info['end']%60:02d}\",\n",
        "#                      sec,info[\"name\"],jenis])\n",
        "#     rows.sort(key=lambda r:(day_order.get(r[0],9),r[1]))\n",
        "#     with open(os.path.join(out_path,f\"{sid}.csv\"),\"w\",encoding=\"utf-8\") as f:\n",
        "#         f.write(\"Hari,Mulai,Selesai,Kode Kelas,Nama Mata Kuliah,Jenis\\n\")\n",
        "#         for r in rows: f.write(\",\".join(r)+\"\\n\")\n",
        "\n",
        "# zip_path=\"/content/jadwal_backtracking_full_300.zip\"\n",
        "# with zipfile.ZipFile(zip_path,\"w\",zipfile.ZIP_DEFLATED) as zf:\n",
        "#     for fn in sorted(os.listdir(out_path)):\n",
        "#         zf.write(os.path.join(out_path,fn),arcname=fn)\n",
        "# print(\"📦 ZIP ready:\", zip_path)\n"
      ],
      "metadata": {
        "id": "9RQUvaSU7G_C"
      },
      "execution_count": 234,
      "outputs": []
    }
  ]
}
