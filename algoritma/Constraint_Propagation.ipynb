{
  "nbformat": 4,
  "nbformat_minor": 0,
  "metadata": {
    "colab": {
      "provenance": []
    },
    "kernelspec": {
      "name": "python3",
      "display_name": "Python 3"
    },
    "language_info": {
      "name": "python"
    }
  },
  "cells": [
    {
      "cell_type": "code",
      "source": [
        "!pip install memory_profiler\n",
        "%load_ext memory_profiler"
      ],
      "metadata": {
        "colab": {
          "base_uri": "https://localhost:8080/"
        },
        "id": "PYMzEOXpKzf3",
        "outputId": "29d85576-5c27-44f7-8e3f-336947c55de2"
      },
      "execution_count": 43,
      "outputs": [
        {
          "output_type": "stream",
          "name": "stdout",
          "text": [
            "Requirement already satisfied: memory_profiler in /usr/local/lib/python3.12/dist-packages (0.61.0)\n",
            "Requirement already satisfied: psutil in /usr/local/lib/python3.12/dist-packages (from memory_profiler) (5.9.5)\n",
            "The memory_profiler extension is already loaded. To reload it, use:\n",
            "  %reload_ext memory_profiler\n"
          ]
        }
      ]
    },
    {
      "cell_type": "code",
      "execution_count": 44,
      "metadata": {
        "colab": {
          "base_uri": "https://localhost:8080/"
        },
        "id": "aU3SnhMWb4Sn",
        "outputId": "fc59844a-22fe-4f2b-e17e-24f682e40fb0"
      },
      "outputs": [
        {
          "output_type": "stream",
          "name": "stdout",
          "text": [
            "🎲 Random seed: 90016\n"
          ]
        }
      ],
      "source": [
        "import pandas as pd, os, csv, time, random\n",
        "from collections import defaultdict\n",
        "\n",
        "# seed acak setiap run\n",
        "RANDOM_SEED = int(time.time()) % 100000\n",
        "random.seed(RANDOM_SEED)\n",
        "print(\"🎲 Random seed:\", RANDOM_SEED)\n",
        "\n",
        "CSV_PATH = \"/content/sample_data/jadwal_kuliah_random_fix9_halfhour.csv\"\n",
        "N_STUDENTS = 300\n",
        "\n",
        "REQUIRED = {\"EF234501\",\"EF234502\",\"EF234503\",\"EF234504\",\"EF234505\"}\n",
        "ELECTIVES = {\"EF234509\",\"EF234518\",\"EF234713\",\"EK234601\",\"EF234618\",\n",
        "             \"EF234606\",\"ER234504\",\"EF234614\",\"EF234704\",\"EF234708\"}\n"
      ]
    },
    {
      "cell_type": "code",
      "source": [
        "def to_minutes(hhmm):\n",
        "    h, m = map(int, hhmm.split(\":\"))\n",
        "    return h * 60 + m\n",
        "\n",
        "def conflict(a, b):\n",
        "    return a[\"day\"] == b[\"day\"] and not (a[\"end\"] <= b[\"start\"] or b[\"end\"] <= a[\"start\"])\n",
        "\n",
        "def load_schedule(path):\n",
        "    data = {}\n",
        "    with open(path, newline=\"\", encoding=\"utf-8\") as f:\n",
        "        reader = csv.DictReader(f)\n",
        "        for r in reader:\n",
        "            code = r[\"Kode Kelas\"].split()[0]\n",
        "            cap = 60 if code in REQUIRED else 30\n",
        "            data[r[\"Kode Kelas\"]] = {\n",
        "                \"code\": code,\n",
        "                \"name\": r[\"Nama Mata Kuliah\"],\n",
        "                \"day\": r[\"Hari\"],\n",
        "                \"start\": to_minutes(r[\"Mulai\"]),\n",
        "                \"end\": to_minutes(r[\"Selesai\"]),\n",
        "                \"cap\": cap,\n",
        "            }\n",
        "    return data\n",
        "\n",
        "def group_by_course(sections):\n",
        "    g = defaultdict(list)\n",
        "    for sid, s in sections.items():\n",
        "        g[s[\"code\"]].append(sid)\n",
        "    return g\n"
      ],
      "metadata": {
        "id": "pPJ9ZUyxb8iH"
      },
      "execution_count": 45,
      "outputs": []
    },
    {
      "cell_type": "code",
      "source": [
        "sections = load_schedule(CSV_PATH)\n",
        "course_to_secs = group_by_course(sections)\n",
        "capacity = {sid: s[\"cap\"] for sid, s in sections.items()}\n",
        "\n",
        "print(\"Total sections:\", len(sections))\n",
        "print(\"Total kapasitas wajib:\", sum(s['cap'] for s in sections.values() if s['code'] in REQUIRED))\n",
        "print(\"Total kapasitas pilihan:\", sum(s['cap'] for s in sections.values() if s['code'] in ELECTIVES))\n"
      ],
      "metadata": {
        "colab": {
          "base_uri": "https://localhost:8080/"
        },
        "id": "frHv9DWLb-ns",
        "outputId": "6f7c0521-feb1-4aab-cf51-febd8df0ce6c"
      },
      "execution_count": 46,
      "outputs": [
        {
          "output_type": "stream",
          "name": "stdout",
          "text": [
            "Total sections: 45\n",
            "Total kapasitas wajib: 1500\n",
            "Total kapasitas pilihan: 600\n"
          ]
        }
      ]
    },
    {
      "cell_type": "code",
      "source": [
        "import time\n",
        "import random\n",
        "\n",
        "def to_minutes(hhmm):\n",
        "    h, m = map(int, hhmm.split(\":\"))\n",
        "    return h * 60 + m\n",
        "\n",
        "def conflict(a, b):\n",
        "    return a[\"day\"] == b[\"day\"] and not (a[\"end\"] <= b[\"start\"] or b[\"end\"] <= a[\"start\"])\n",
        "\n",
        "def load_schedule(path):\n",
        "    data = {}\n",
        "    with open(path, newline=\"\", encoding=\"utf-8\") as f:\n",
        "        reader = csv.DictReader(f)\n",
        "        for r in reader:\n",
        "            code = r[\"Kode Kelas\"].split()[0]\n",
        "            cap = 60 if code in REQUIRED else 30\n",
        "            data[r[\"Kode Kelas\"]] = {\n",
        "                \"code\": code,\n",
        "                \"name\": r[\"Nama Mata Kuliah\"],\n",
        "                \"day\": r[\"Hari\"],\n",
        "                \"start\": to_minutes(r[\"Mulai\"]),\n",
        "                \"end\": to_minutes(r[\"Selesai\"]),\n",
        "                \"cap\": cap,\n",
        "            }\n",
        "    return data\n",
        "\n",
        "def group_by_course(sections):\n",
        "    g = defaultdict(list)\n",
        "    for sid, s in sections.items():\n",
        "        g[s[\"code\"]].append(sid)\n",
        "    return g\n",
        "\n",
        "def fc_assign_student(course_to_secs, sections, capacity, time_limit=0.3):\n",
        "    start_time = time.time()\n",
        "\n",
        "    courses = list(REQUIRED) + random.sample(list(ELECTIVES), 2)\n",
        "    random.shuffle(courses)\n",
        "    domains = {c: [sid for sid in course_to_secs[c] if capacity[sid] > 0] for c in courses}\n",
        "    assigned = {}\n",
        "\n",
        "    def forward_check(code, sec):\n",
        "        reduced = {}\n",
        "        for c2, dom in domains.items():\n",
        "            if c2 == code or c2 in assigned:\n",
        "                continue\n",
        "            new_dom = [s for s in dom if not conflict(sections[s], sections[sec])]\n",
        "            if new_dom:\n",
        "                reduced[c2] = new_dom\n",
        "            else:\n",
        "                return None\n",
        "        return reduced\n",
        "\n",
        "    def backtrack(i=0):\n",
        "        # stop kalau timeout\n",
        "        if time.time() - start_time > time_limit:\n",
        "            return False\n",
        "        if i == len(courses):\n",
        "            return True\n",
        "        c = courses[i]\n",
        "        dom = sorted(domains[c], key=lambda sid: capacity[sid], reverse=True)\n",
        "        random.shuffle(dom)\n",
        "        for sid in dom:\n",
        "            if capacity[sid] <= 0:\n",
        "                continue\n",
        "            assigned[c] = sid\n",
        "            capacity[sid] -= 1\n",
        "            reduced = forward_check(c, sid)\n",
        "            if reduced is not None:\n",
        "                saved = {k: domains[k][:] for k in reduced}\n",
        "                for k, v in reduced.items():\n",
        "                    domains[k] = v\n",
        "                if backtrack(i + 1):\n",
        "                    return True\n",
        "                for k, v in saved.items():\n",
        "                    domains[k] = v\n",
        "            capacity[sid] += 1\n",
        "            assigned.pop(c, None)\n",
        "        return False\n",
        "\n",
        "    ok = backtrack(0)\n",
        "    return assigned if ok else None\n",
        "\n",
        "def count_conflicts(assignment, sections):\n",
        "    conflicts = 0\n",
        "    assigned_sections = [sections[sid] for sid in assignment.values()]\n",
        "    for i in range(len(assigned_sections)):\n",
        "        for j in range(i + 1, len(assigned_sections)):\n",
        "            if conflict(assigned_sections[i], assigned_sections[j]):\n",
        "                conflicts += 1\n",
        "    return conflicts\n",
        "\n",
        "def min_conflicts_assign_student(course_to_secs, sections, capacity, max_steps=1000):\n",
        "    courses = list(REQUIRED) + random.sample(list(ELECTIVES), 2)\n",
        "    assigned = {}\n",
        "\n",
        "    # random assignment awal\n",
        "    for c in courses:\n",
        "        available_sections = [sid for sid in course_to_secs[c] if capacity[sid] > 0]\n",
        "        if not available_sections:\n",
        "            return None\n",
        "        assigned[c] = random.choice(available_sections)\n",
        "\n",
        "    for _ in range(max_steps):\n",
        "        if count_conflicts(assigned, sections) == 0:\n",
        "            return assigned\n",
        "\n",
        "        # cari conflicting course\n",
        "        conflicting_courses = []\n",
        "        assigned_sections = list(assigned.values())\n",
        "        for i, sid1 in enumerate(assigned.values()):\n",
        "            for j, sid2 in enumerate(assigned.values()):\n",
        "                if i < j and conflict(sections[sid1], sections[sid2]):\n",
        "                    conflicting_courses.append(list(assigned.keys())[i])\n",
        "                    break # tambahkan salah satu\n",
        "        if not conflicting_courses:\n",
        "            return assigned\n",
        "\n",
        "        course_to_fix = random.choice(conflicting_courses)\n",
        "\n",
        "        # cari best section (minim conflict)\n",
        "        best_section = None\n",
        "        min_conf = float('inf')\n",
        "        available_sections = [sid for sid in course_to_secs[course_to_fix] if capacity[sid] > 0]\n",
        "\n",
        "        for sec_id in available_sections:\n",
        "            temp_assigned = assigned.copy()\n",
        "            temp_assigned[course_to_fix] = sec_id\n",
        "            conf = count_conflicts(temp_assigned, sections)\n",
        "            if conf < min_conf:\n",
        "                min_conf = conf\n",
        "                best_section = sec_id\n",
        "\n",
        "        if best_section:\n",
        "            assigned[course_to_fix] = best_section\n",
        "        else:\n",
        "             # If no better section found, try a random one from available\n",
        "            assigned[course_to_fix] = random.choice(available_sections)\n",
        "\n",
        "\n",
        "    return None"
      ],
      "metadata": {
        "id": "IkQbzzI1cBV-"
      },
      "execution_count": 47,
      "outputs": []
    },
    {
      "cell_type": "code",
      "source": [
        "%%memit\n",
        "\n",
        "import os\n",
        "import time\n",
        "import random\n",
        "\n",
        "out_dir = \"/content/output_CP_optimized\"\n",
        "os.makedirs(out_dir, exist_ok=True)\n",
        "\n",
        "start = time.time()\n",
        "success = 0\n",
        "failed = []\n",
        "\n",
        "students = [f\"S{i:03d}\" for i in range(1, N_STUDENTS + 1)]\n",
        "random.shuffle(students)  # acak urutan mahasiswa biar adil\n",
        "\n",
        "# Make a copy of initial capacity for each student attempt\n",
        "initial_capacity = capacity.copy()\n",
        "\n",
        "for sid in students:\n",
        "    alloc = None\n",
        "    current_capacity = initial_capacity.copy() # Use a fresh capacity for each student\n",
        "    # Try Min-Conflicts first\n",
        "    alloc = min_conflicts_assign_student(course_to_secs, sections, current_capacity)\n",
        "\n",
        "    if not alloc:\n",
        "        # If Min-Conflicts fails, try Forward Checking (can adjust attempts)\n",
        "        for _ in range(50): # Reduced attempts for FC as MC is primary\n",
        "            current_capacity = initial_capacity.copy() # Fresh capacity for each FC attempt\n",
        "            alloc = fc_assign_student(course_to_secs, sections, current_capacity)\n",
        "            if alloc:\n",
        "                break\n",
        "\n",
        "\n",
        "    if not alloc:\n",
        "        failed.append(sid)\n",
        "        continue\n",
        "\n",
        "    # Update the main capacity based on the successful allocation\n",
        "    for sec_id in alloc.values():\n",
        "        capacity[sec_id] -= 1\n",
        "\n",
        "    day_order = {\"Senin\":1,\"Selasa\":2,\"Rabu\":3,\"Kamis\":4,\"Jumat\":5}\n",
        "    rows = []\n",
        "    for c, sec in alloc.items():\n",
        "        info = sections[sec]\n",
        "        jenis = \"Wajib\" if c in REQUIRED else \"Pilihan\"\n",
        "        rows.append([\n",
        "            info[\"day\"],\n",
        "            f\"{info['start']//60:02d}:{info['start']%60:02d}\",\n",
        "            f\"{info['end']//60:02d}:{info['end']%60:02d}\",\n",
        "            sec,\n",
        "            info[\"name\"],\n",
        "            jenis,\n",
        "        ])\n",
        "    rows.sort(key=lambda r: (day_order[r[0]], r[1]))\n",
        "    with open(os.path.join(out_dir, f\"{sid}.csv\"), \"w\", encoding=\"utf-8\") as f:\n",
        "        f.write(\"Hari,Mulai,Selesai,Kode Kelas,Nama Mata Kuliah,Jenis\\n\")\n",
        "        for r in rows:\n",
        "            f.write(\",\".join(r) + \"\\n\")\n",
        "    success += 1\n",
        "    if success % 25 == 0:\n",
        "        print(f\"Progress: {success}/{N_STUDENTS}\")\n",
        "\n",
        "elapsed = time.time() - start\n",
        "print(f\"\\n✅ Selesai dalam {elapsed:.2f} detik. Sukses: {success}/{N_STUDENTS}\")\n",
        "if failed:\n",
        "    print(\"Mahasiswa gagal:\", len(failed), failed[:10])\n",
        "else:\n",
        "    print(\"🔥 Semua mahasiswa berhasil teralokasi!\")"
      ],
      "metadata": {
        "colab": {
          "base_uri": "https://localhost:8080/"
        },
        "id": "uiqAF-U9cEYg",
        "outputId": "9c4b6423-5fc8-4f4c-9f01-85aacbf01640"
      },
      "execution_count": 48,
      "outputs": [
        {
          "output_type": "stream",
          "name": "stdout",
          "text": [
            "Progress: 25/300\n",
            "Progress: 50/300\n",
            "Progress: 75/300\n",
            "Progress: 100/300\n",
            "Progress: 125/300\n",
            "Progress: 150/300\n",
            "Progress: 175/300\n",
            "Progress: 200/300\n",
            "Progress: 225/300\n",
            "Progress: 250/300\n",
            "Progress: 275/300\n",
            "Progress: 300/300\n",
            "\n",
            "✅ Selesai dalam 0.30 detik. Sukses: 300/300\n",
            "🔥 Semua mahasiswa berhasil teralokasi!\n",
            "peak memory: 179.34 MiB, increment: 0.00 MiB\n"
          ]
        }
      ]
    },
    {
      "cell_type": "code",
      "source": [],
      "metadata": {
        "id": "m-V0awZidXl4"
      },
      "execution_count": 48,
      "outputs": []
    }
  ]
}
