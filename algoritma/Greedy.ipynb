{
  "nbformat": 4,
  "nbformat_minor": 0,
  "metadata": {
    "colab": {
      "provenance": []
    },
    "kernelspec": {
      "name": "python3",
      "display_name": "Python 3"
    },
    "language_info": {
      "name": "python"
    }
  },
  "cells": [
    {
      "cell_type": "code",
      "source": [
        "!pip install memory_profiler\n",
        "%load_ext memory_profiler"
      ],
      "metadata": {
        "colab": {
          "base_uri": "https://localhost:8080/"
        },
        "id": "FGijE0ZhljCQ",
        "outputId": "8eb97dec-df38-4bea-b499-a6f7f066b754"
      },
      "execution_count": 8,
      "outputs": [
        {
          "output_type": "stream",
          "name": "stdout",
          "text": [
            "Requirement already satisfied: memory_profiler in /usr/local/lib/python3.12/dist-packages (0.61.0)\n",
            "Requirement already satisfied: psutil in /usr/local/lib/python3.12/dist-packages (from memory_profiler) (5.9.5)\n",
            "The memory_profiler extension is already loaded. To reload it, use:\n",
            "  %reload_ext memory_profiler\n"
          ]
        }
      ]
    },
    {
      "cell_type": "code",
      "execution_count": 9,
      "metadata": {
        "colab": {
          "base_uri": "https://localhost:8080/"
        },
        "id": "1qhQA8DxZQc5",
        "outputId": "894eb532-6a62-476a-88fb-a08f33fd4140"
      },
      "outputs": [
        {
          "output_type": "stream",
          "name": "stdout",
          "text": [
            "🎲 Random seed: 89537\n"
          ]
        }
      ],
      "source": [
        "import pandas as pd, os, csv, time, random\n",
        "from collections import defaultdict\n",
        "\n",
        "# seed bisa random setiap run\n",
        "RANDOM_SEED = int(time.time()) % 100000\n",
        "random.seed(RANDOM_SEED)\n",
        "print(\"🎲 Random seed:\", RANDOM_SEED)\n",
        "\n",
        "# parameter dasar\n",
        "CSV_PATH = \"/content/sample_data/jadwal_kuliah_random_fix9_halfhour.csv\"\n",
        "N_STUDENTS = 300\n",
        "\n",
        "REQUIRED = {\"EF234501\",\"EF234502\",\"EF234503\",\"EF234504\",\"EF234505\"}\n",
        "ELECTIVES = {\"EF234509\",\"EF234518\",\"EF234713\",\"EK234601\",\"EF234618\",\n",
        "             \"EF234606\",\"ER234504\",\"EF234614\",\"EF234704\",\"EF234708\"}\n"
      ]
    },
    {
      "cell_type": "code",
      "source": [
        "def to_minutes(hhmm):\n",
        "    h, m = map(int, hhmm.split(\":\"))\n",
        "    return h*60 + m\n",
        "\n",
        "def conflict(a,b):\n",
        "    return a[\"day\"]==b[\"day\"] and not (a[\"end\"]<=b[\"start\"] or b[\"end\"]<=a[\"start\"])\n",
        "\n",
        "def load_schedule(path):\n",
        "    data={}\n",
        "    with open(path,newline=\"\",encoding=\"utf-8\") as f:\n",
        "        reader=csv.DictReader(f)\n",
        "        for r in reader:\n",
        "            code=r[\"Kode Kelas\"].split()[0]\n",
        "            cap=60 if code in REQUIRED else 30\n",
        "            data[r[\"Kode Kelas\"]]={\"code\":code,\"name\":r[\"Nama Mata Kuliah\"],\n",
        "                                   \"day\":r[\"Hari\"],\n",
        "                                   \"start\":to_minutes(r[\"Mulai\"]),\n",
        "                                   \"end\":to_minutes(r[\"Selesai\"]),\n",
        "                                   \"cap\":cap}\n",
        "    return data\n",
        "\n",
        "def group_by_course(sections):\n",
        "    g=defaultdict(list)\n",
        "    for sid,s in sections.items():\n",
        "        g[s[\"code\"]].append(sid)\n",
        "    return g\n"
      ],
      "metadata": {
        "id": "9eJkoMW9Zjec"
      },
      "execution_count": 10,
      "outputs": []
    },
    {
      "cell_type": "code",
      "source": [
        "sections = load_schedule(CSV_PATH)\n",
        "course_to_secs = group_by_course(sections)\n",
        "capacity = {sid:s[\"cap\"] for sid,s in sections.items()}\n",
        "\n",
        "print(\"Total section:\", len(sections))\n",
        "print(\"Wajib seats:\", sum(s['cap'] for s in sections.values() if s['code'] in REQUIRED))\n",
        "print(\"Pilihan seats:\", sum(s['cap'] for s in sections.values() if s['code'] in ELECTIVES))\n"
      ],
      "metadata": {
        "colab": {
          "base_uri": "https://localhost:8080/"
        },
        "id": "xT3neLrUZmqx",
        "outputId": "507566bf-f3d3-4ce3-8208-9ee62d044fa2"
      },
      "execution_count": 11,
      "outputs": [
        {
          "output_type": "stream",
          "name": "stdout",
          "text": [
            "Total section: 45\n",
            "Wajib seats: 1500\n",
            "Pilihan seats: 600\n"
          ]
        }
      ]
    },
    {
      "cell_type": "code",
      "source": [
        "def greedy_assign_student(course_to_secs, sections, capacity):\n",
        "    assigned = {}\n",
        "    assigned_slots = defaultdict(list)\n",
        "    current_capacity = capacity.copy()\n",
        "\n",
        "    # matkul wajib dulu\n",
        "    courses_to_assign = list(REQUIRED)\n",
        "    electives_to_choose = random.sample(list(ELECTIVES), 2)\n",
        "    courses_to_assign.extend(electives_to_choose)\n",
        "    random.shuffle(courses_to_assign[len(REQUIRED):])\n",
        "\n",
        "\n",
        "    for course_code in courses_to_assign:\n",
        "        secs = sorted(course_to_secs[course_code], key=lambda sid: (current_capacity[sid], sections[sid][\"start\"]), reverse=True)\n",
        "\n",
        "        picked = False\n",
        "        for sid in secs:\n",
        "            s = sections[sid]\n",
        "\n",
        "            conflicts_on_day = False\n",
        "            for assigned_start, assigned_end in assigned_slots[s[\"day\"]]:\n",
        "                if conflict({\"day\": s[\"day\"], \"start\": s[\"start\"], \"end\": s[\"end\"]},\n",
        "                            {\"day\": s[\"day\"], \"start\": assigned_start, \"end\": assigned_end}):\n",
        "                    conflicts_on_day = True\n",
        "                    break\n",
        "\n",
        "            if conflicts_on_day:\n",
        "                continue\n",
        "\n",
        "            if current_capacity[sid] > 0:\n",
        "                assigned[course_code] = sid\n",
        "                assigned_slots[s[\"day\"]].append((s[\"start\"], s[\"end\"]))\n",
        "                assigned_slots[s[\"day\"]].sort()\n",
        "                current_capacity[sid] -= 1\n",
        "                picked = True\n",
        "                break\n",
        "\n",
        "        if not picked:\n",
        "            # jika matkul wajib tidak bisa, jadwal invalid\n",
        "            if course_code in REQUIRED:\n",
        "                 return None\n",
        "            pass\n",
        "\n",
        "    # cek semua matkul wajib terpilih\n",
        "    if all(c in assigned for c in REQUIRED):\n",
        "        return assigned\n",
        "    else:\n",
        "        return None\n",
        "\n"
      ],
      "metadata": {
        "id": "u7pLN2O1Zppo"
      },
      "execution_count": 12,
      "outputs": []
    },
    {
      "cell_type": "code",
      "source": [
        "%%memit\n",
        "\n",
        "out_dir=\"/content/output_greedy\"\n",
        "os.makedirs(out_dir,exist_ok=True)\n",
        "\n",
        "start=time.time()\n",
        "success=0\n",
        "for i in range(1,N_STUDENTS+1):\n",
        "    sid=f\"S{i:03d}\"\n",
        "    alloc=greedy_assign_student(course_to_secs,sections,capacity)\n",
        "    if not alloc:\n",
        "        print(f\"[!] {sid} gagal alokasi\")\n",
        "        continue\n",
        "\n",
        "    # simpan jadwal mahasiswa\n",
        "    day_order={\"Senin\":1,\"Selasa\":2,\"Rabu\":3,\"Kamis\":4,\"Jumat\":5}\n",
        "    rows=[]\n",
        "    for c,sec in alloc.items():\n",
        "        info=sections[sec]\n",
        "        jenis=\"Wajib\" if c in REQUIRED else \"Pilihan\"\n",
        "        rows.append([info[\"day\"],\n",
        "                     f\"{info['start']//60:02d}:{info['start']%60:02d}\",\n",
        "                     f\"{info['end']//60:02d}:{info['end']%60:02d}\",\n",
        "                     sec, info[\"name\"], jenis])\n",
        "    rows.sort(key=lambda r:(day_order[r[0]],r[1]))\n",
        "    with open(os.path.join(out_dir,f\"{sid}.csv\"),\"w\",encoding=\"utf-8\") as f:\n",
        "        f.write(\"Hari,Mulai,Selesai,Kode Kelas,Nama Mata Kuliah,Jenis\\n\")\n",
        "        for r in rows: f.write(\",\".join(r)+\"\\n\")\n",
        "    success+=1\n",
        "    if i%25==0: print(f\"Progress: {i}/300 (sukses: {success})\")\n",
        "\n",
        "elapsed=time.time()-start\n",
        "print(f\"\\n✅ Done. Mahasiswa sukses: {success}/{N_STUDENTS} | Waktu: {elapsed:.2f}s\")\n"
      ],
      "metadata": {
        "colab": {
          "base_uri": "https://localhost:8080/"
        },
        "id": "Zug-4qEpZsBy",
        "outputId": "38045bd7-94e8-44b4-b31e-e0d5d8d2bd06"
      },
      "execution_count": 13,
      "outputs": [
        {
          "output_type": "stream",
          "name": "stdout",
          "text": [
            "Progress: 25/300 (sukses: 25)\n",
            "Progress: 50/300 (sukses: 50)\n",
            "Progress: 75/300 (sukses: 75)\n",
            "Progress: 100/300 (sukses: 100)\n",
            "Progress: 125/300 (sukses: 125)\n",
            "Progress: 150/300 (sukses: 150)\n",
            "Progress: 175/300 (sukses: 175)\n",
            "Progress: 200/300 (sukses: 200)\n",
            "Progress: 225/300 (sukses: 225)\n",
            "Progress: 250/300 (sukses: 250)\n",
            "Progress: 275/300 (sukses: 275)\n",
            "Progress: 300/300 (sukses: 300)\n",
            "\n",
            "✅ Done. Mahasiswa sukses: 300/300 | Waktu: 0.06s\n",
            "peak memory: 174.84 MiB, increment: 0.00 MiB\n"
          ]
        }
      ]
    },
    {
      "cell_type": "code",
      "source": [
        "# import zipfile\n",
        "# zip_path=\"/content/jadwal_greedy_300.zip\"\n",
        "# with zipfile.ZipFile(zip_path,\"w\",zipfile.ZIP_DEFLATED) as zf:\n",
        "#     for fn in sorted(os.listdir(out_dir)):\n",
        "#         zf.write(os.path.join(out_dir,fn),arcname=fn)\n",
        "# print(\"ZIP siap:\", zip_path)\n",
        "\n",
        "# from google.colab import files\n",
        "# files.download(zip_path)\n"
      ],
      "metadata": {
        "id": "bX41tR-va_2b"
      },
      "execution_count": 14,
      "outputs": []
    }
  ]
}
